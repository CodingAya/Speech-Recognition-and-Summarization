{
 "cells": [
  {
   "cell_type": "markdown",
   "id": "2f87fb19",
   "metadata": {},
   "source": [
    "# Welcome to the Speech Recognition with the Vosk library and Summarization with HuggingFace transformers Project"
   ]
  },
  {
   "cell_type": "markdown",
   "id": "cc034c70",
   "metadata": {},
   "source": [
    "## 1. Speech recognition using Vosk"
   ]
  },
  {
   "cell_type": "code",
   "execution_count": 2,
   "id": "2cdb815f",
   "metadata": {},
   "outputs": [],
   "source": [
    "from vosk import Model, KaldiRecognizer"
   ]
  },
  {
   "cell_type": "code",
   "execution_count": 3,
   "id": "06134ea0",
   "metadata": {},
   "outputs": [
    {
     "data": {
      "text/plain": [
       "<vosk.Model at 0x2b6c129e280>"
      ]
     },
     "execution_count": 3,
     "metadata": {},
     "output_type": "execute_result"
    }
   ],
   "source": [
    "Model(model_name=\"vosk-model-small-en-us-0.15\")"
   ]
  },
  {
   "cell_type": "code",
   "execution_count": 4,
   "id": "86b58df6",
   "metadata": {},
   "outputs": [],
   "source": [
    "FRAME_RATE = 16000\n",
    "CHANNELS=1\n",
    "\n",
    "model = Model(model_name=\"vosk-model-small-en-us-0.15\")\n",
    "rec = KaldiRecognizer(model, FRAME_RATE)\n",
    "rec.SetWords(True)"
   ]
  },
  {
   "cell_type": "raw",
   "id": "96c34e7e",
   "metadata": {},
   "source": [
    "!pip install ffmpeg"
   ]
  },
  {
   "cell_type": "code",
   "execution_count": 5,
   "id": "97975024",
   "metadata": {},
   "outputs": [],
   "source": [
    "import pydub"
   ]
  },
  {
   "cell_type": "code",
   "execution_count": 6,
   "id": "7681c799",
   "metadata": {},
   "outputs": [],
   "source": [
    "from pydub import AudioSegment"
   ]
  },
  {
   "cell_type": "code",
   "execution_count": 7,
   "id": "8101d9a2",
   "metadata": {},
   "outputs": [
    {
     "name": "stdout",
     "output_type": "stream",
     "text": [
      "3.8.8 (default, Apr 13 2021, 15:08:03) [MSC v.1916 64 bit (AMD64)]\n"
     ]
    }
   ],
   "source": [
    "from pathlib import Path\n",
    "\n",
    "import os, sys\n",
    "\n",
    "print (sys.version)"
   ]
  },
  {
   "cell_type": "code",
   "execution_count": 10,
   "id": "c7d3659f",
   "metadata": {},
   "outputs": [],
   "source": [
    "AudioSegment.converter = \"C:\\\\PATH_Programs\\\\ffmpeg.exe\"                    \n",
    "AudioSegment.ffprobe   = \"C:\\\\PATH_Programs\\\\ffprobe.exe\"\n",
    "\n",
    "audio = AudioSegment.from_mp3(\"C:\\\\Users\\\\ayael\\\\elonmusk.mp3\")\n",
    "audio = audio.set_channels(CHANNELS)\n",
    "audio = audio.set_frame_rate(FRAME_RATE)"
   ]
  },
  {
   "cell_type": "code",
   "execution_count": 11,
   "id": "20809c07",
   "metadata": {},
   "outputs": [],
   "source": [
    "rec.AcceptWaveform(audio.raw_data)\n",
    "result = rec.Result()"
   ]
  },
  {
   "cell_type": "code",
   "execution_count": 15,
   "id": "5287742d",
   "metadata": {},
   "outputs": [
    {
     "data": {
      "text/plain": [
       "'{\\n  \"result\" : [{\\n      \"conf\" : 0.909778,\\n      \"end\" : 0.584924,\\n      \"start\" : 0.299862,\\n      \"word\" : \"the\"\\n    }, {\\n      \"conf\" : 1.000000,\\n      \"end\" : 0.960000,\\n      \"start\" : 0.763270,\\n      \"word\" : \"about\"\\n    }, {\\n      \"conf\" : 0.584723,\\n      \"end\" : 1.110000,\\n      \"start\" : 0.960000,\\n      \"word\" : \"it\"\\n    }, {\\n      \"conf\" : 0.261871,\\n      \"end\" : 1.410000,\\n      \"start\" : 1.110000,\\n      \"word\" : \"aired\"\\n    }, {\\n      \"conf\" : 1.000000,\\n      \"end\" : 1.530000,\\n      \"start\" : 1.410000,\\n      \"word\" : \"for\"\\n    }, {\\n      \"conf\" : 1.000000,\\n      \"end\" : 1.680000,\\n      \"start\" : 1.535130,\\n      \"word\" : \"long\"\\n    }, {\\n      \"conf\" : 1.000000,\\n      \"end\" : 2.010000,\\n      \"start\" : 1.680000,\\n      \"word\" : \"time\"\\n    }, {\\n      \"conf\" : 1.000000,\\n      \"end\" : 2.250000,\\n      \"start\" : 2.010000,\\n      \"word\" : \"since\"\\n    }, {\\n      \"conf\" : 0.730943,\\n      \"end\" : 2.382700,\\n      \"start\" : 2.250000,\\n      \"word\" : \"as\"\\n    }, {\\n      \"conf\" : 0.887246,\\n      \"end\" : 2.490000,\\n      \"start\" : 2.382700,\\n      \"word\" : \"and\"\\n    }, {\\n      \"conf\" : 0.887246,\\n      \"end\" : 2.790000,\\n      \"start\" : 2.490000,\\n      \"word\" : \"cause\"\\n    }, {\\n      \"conf\" : 1.000000,\\n      \"end\" : 3.090000,\\n      \"start\" : 2.790000,\\n      \"word\" : \"really\"\\n    }, {\\n      \"conf\" : 0.785433,\\n      \"end\" : 4.620000,\\n      \"start\" : 4.470000,\\n      \"word\" : \"is\"\\n    }, {\\n      \"conf\" : 0.805908,\\n      \"end\" : 4.740000,\\n      \"start\" : 4.620000,\\n      \"word\" : \"one\"\\n    }, {\\n      \"conf\" : 0.805908,\\n      \"end\" : 4.797758,\\n      \"start\" : 4.740000,\\n      \"word\" : \"of\"\\n    }, {\\n      \"conf\" : 1.000000,\\n      \"end\" : 4.890000,\\n      \"start\" : 4.797758,\\n      \"word\" : \"the\"\\n    }, {\\n      \"conf\" : 1.000000,\\n      \"end\" : 5.190000,\\n      \"start\" : 4.890000,\\n      \"word\" : \"things\"\\n    }, {\\n      \"conf\" : 1.000000,\\n      \"end\" : 5.550000,\\n      \"start\" : 5.190000,\\n      \"word\" : \"that\"\\n    }, {\\n      \"conf\" : 0.769046,\\n      \"end\" : 5.790000,\\n      \"start\" : 5.580000,\\n      \"word\" : \"this\"\\n    }, {\\n      \"conf\" : 0.701856,\\n      \"end\" : 5.878921,\\n      \"start\" : 5.790000,\\n      \"word\" : \"or\"\\n    }, {\\n      \"conf\" : 0.692135,\\n      \"end\" : 6.051724,\\n      \"start\" : 5.878921,\\n      \"word\" : \"four\"\\n    }, {\\n      \"conf\" : 1.000000,\\n      \"end\" : 6.240000,\\n      \"start\" : 6.060000,\\n      \"word\" : \"five\"\\n    }, {\\n      \"conf\" : 1.000000,\\n      \"end\" : 6.450000,\\n      \"start\" : 6.240000,\\n      \"word\" : \"things\"\\n    }, {\\n      \"conf\" : 0.819573,\\n      \"end\" : 6.660000,\\n      \"start\" : 6.450000,\\n      \"word\" : \"either\"\\n    }, {\\n      \"conf\" : 1.000000,\\n      \"end\" : 6.840000,\\n      \"start\" : 6.663690,\\n      \"word\" : \"would\"\\n    }, {\\n      \"conf\" : 1.000000,\\n      \"end\" : 7.260000,\\n      \"start\" : 6.840000,\\n      \"word\" : \"really\"\\n    }, {\\n      \"conf\" : 1.000000,\\n      \"end\" : 8.160000,\\n      \"start\" : 7.860000,\\n      \"word\" : \"affect\"\\n    }, {\\n      \"conf\" : 1.000000,\\n      \"end\" : 8.820000,\\n      \"start\" : 8.160000,\\n      \"word\" : \"future\"\\n    }, {\\n      \"conf\" : 1.000000,\\n      \"end\" : 9.210000,\\n      \"start\" : 9.120000,\\n      \"word\" : \"a\"\\n    }, {\\n      \"conf\" : 1.000000,\\n      \"end\" : 9.780000,\\n      \"start\" : 9.210000,\\n      \"word\" : \"dramatically\"\\n    }, {\\n      \"conf\" : 0.900374,\\n      \"end\" : 10.134022,\\n      \"start\" : 9.990000,\\n      \"word\" : \"a\"\\n    }, {\\n      \"conf\" : 1.000000,\\n      \"end\" : 10.350000,\\n      \"start\" : 10.134022,\\n      \"word\" : \"it\"\\n    }, {\\n      \"conf\" : 0.856757,\\n      \"end\" : 10.484535,\\n      \"start\" : 10.380000,\\n      \"word\" : \"it\"\\n    }, {\\n      \"conf\" : 0.484107,\\n      \"end\" : 10.620000,\\n      \"start\" : 10.484535,\\n      \"word\" : \"is\"\\n    }, {\\n      \"conf\" : 0.473077,\\n      \"end\" : 10.973187,\\n      \"start\" : 10.620000,\\n      \"word\" : \"fundamentally\"\\n    }, {\\n      \"conf\" : 1.000000,\\n      \"end\" : 11.370000,\\n      \"start\" : 10.973187,\\n      \"word\" : \"profound\"\\n    }, {\\n      \"conf\" : 0.890787,\\n      \"end\" : 11.490000,\\n      \"start\" : 11.370000,\\n      \"word\" : \"in\"\\n    }, {\\n      \"conf\" : 1.000000,\\n      \"end\" : 11.730000,\\n      \"start\" : 11.490000,\\n      \"word\" : \"that\"\\n    }, {\\n      \"conf\" : 1.000000,\\n      \"end\" : 12.270000,\\n      \"start\" : 11.790000,\\n      \"word\" : \"the\"\\n    }, {\\n      \"conf\" : 0.766586,\\n      \"end\" : 13.230000,\\n      \"start\" : 13.050000,\\n      \"word\" : \"this\"\\n    }, {\\n      \"conf\" : 1.000000,\\n      \"end\" : 13.350000,\\n      \"start\" : 13.233832,\\n      \"word\" : \"the\"\\n    }, {\\n      \"conf\" : 1.000000,\\n      \"end\" : 13.800000,\\n      \"start\" : 13.350000,\\n      \"word\" : \"smartest\"\\n    }, {\\n      \"conf\" : 1.000000,\\n      \"end\" : 14.253005,\\n      \"start\" : 13.800000,\\n      \"word\" : \"creatures\"\\n    }, {\\n      \"conf\" : 0.591133,\\n      \"end\" : 14.399999,\\n      \"start\" : 14.253005,\\n      \"word\" : \"this\"\\n    }, {\\n      \"conf\" : 0.591133,\\n      \"end\" : 14.579999,\\n      \"start\" : 14.399999,\\n      \"word\" : \"was\"\\n    }, {\\n      \"conf\" : 0.915368,\\n      \"end\" : 14.670000,\\n      \"start\" : 14.580000,\\n      \"word\" : \"you\"\\n    }, {\\n      \"conf\" : 0.915368,\\n      \"end\" : 14.940000,\\n      \"start\" : 14.670000,\\n      \"word\" : \"know\"\\n    }, {\\n      \"conf\" : 1.000000,\\n      \"end\" : 15.120000,\\n      \"start\" : 14.970000,\\n      \"word\" : \"on\"\\n    }, {\\n      \"conf\" : 1.000000,\\n      \"end\" : 15.330000,\\n      \"start\" : 15.120000,\\n      \"word\" : \"this\"\\n    }, {\\n      \"conf\" : 1.000000,\\n      \"end\" : 15.690000,\\n      \"start\" : 15.330000,\\n      \"word\" : \"earth\"\\n    }, {\\n      \"conf\" : 1.000000,\\n      \"end\" : 15.990000,\\n      \"start\" : 15.750000,\\n      \"word\" : \"are\"\\n    }, {\\n      \"conf\" : 1.000000,\\n      \"end\" : 16.560000,\\n      \"start\" : 15.990000,\\n      \"word\" : \"humans\"\\n    }, {\\n      \"conf\" : 0.526805,\\n      \"end\" : 17.281778,\\n      \"start\" : 17.100000,\\n      \"word\" : \"is\"\\n    }, {\\n      \"conf\" : 0.731095,\\n      \"end\" : 17.580000,\\n      \"start\" : 17.281778,\\n      \"word\" : \"are\"\\n    }, {\\n      \"conf\" : 1.000000,\\n      \"end\" : 18.240000,\\n      \"start\" : 17.640000,\\n      \"word\" : \"defining\"\\n    }, {\\n      \"conf\" : 1.000000,\\n      \"end\" : 19.110000,\\n      \"start\" : 18.300000,\\n      \"word\" : \"characteristic\"\\n    }, {\\n      \"conf\" : 0.756382,\\n      \"end\" : 19.560000,\\n      \"start\" : 19.260000,\\n      \"word\" : \"yes\"\\n    }, {\\n      \"conf\" : 0.522086,\\n      \"end\" : 20.070000,\\n      \"start\" : 19.890000,\\n      \"word\" : \"we\\'re\"\\n    }, {\\n      \"conf\" : 1.000000,\\n      \"end\" : 20.640000,\\n      \"start\" : 20.073477,\\n      \"word\" : \"obviously\"\\n    }, {\\n      \"conf\" : 0.542347,\\n      \"end\" : 21.328248,\\n      \"start\" : 21.060000,\\n      \"word\" : \"are\"\\n    }, {\\n      \"conf\" : 1.000000,\\n      \"end\" : 21.780000,\\n      \"start\" : 21.328248,\\n      \"word\" : \"weaker\"\\n    }, {\\n      \"conf\" : 1.000000,\\n      \"end\" : 22.020000,\\n      \"start\" : 21.780000,\\n      \"word\" : \"than\"\\n    }, {\\n      \"conf\" : 1.000000,\\n      \"end\" : 22.470000,\\n      \"start\" : 22.020000,\\n      \"word\" : \"say\"\\n    }, {\\n      \"conf\" : 1.000000,\\n      \"end\" : 23.340000,\\n      \"start\" : 22.560000,\\n      \"word\" : \"chimpanzees\"\\n    }, {\\n      \"conf\" : 0.890109,\\n      \"end\" : 23.550000,\\n      \"start\" : 23.340000,\\n      \"word\" : \"and\"\\n    }, {\\n      \"conf\" : 1.000000,\\n      \"end\" : 23.910000,\\n      \"start\" : 23.580000,\\n      \"word\" : \"less\"\\n    }, {\\n      \"conf\" : 1.000000,\\n      \"end\" : 24.390000,\\n      \"start\" : 23.910000,\\n      \"word\" : \"agile\"\\n    }, {\\n      \"conf\" : 0.988113,\\n      \"end\" : 25.710000,\\n      \"start\" : 25.560000,\\n      \"word\" : \"but\"\\n    }, {\\n      \"conf\" : 0.494144,\\n      \"end\" : 25.860000,\\n      \"start\" : 25.800000,\\n      \"word\" : \"are\"\\n    }, {\\n      \"conf\" : 1.000000,\\n      \"end\" : 26.280000,\\n      \"start\" : 25.860000,\\n      \"word\" : \"smarter\"\\n    }, {\\n      \"conf\" : 1.000000,\\n      \"end\" : 27.720000,\\n      \"start\" : 27.210000,\\n      \"word\" : \"so\"\\n    }, {\\n      \"conf\" : 1.000000,\\n      \"end\" : 29.940000,\\n      \"start\" : 29.520000,\\n      \"word\" : \"now\"\\n    }, {\\n      \"conf\" : 1.000000,\\n      \"end\" : 30.150000,\\n      \"start\" : 29.970000,\\n      \"word\" : \"what\"\\n    }, {\\n      \"conf\" : 1.000000,\\n      \"end\" : 30.510000,\\n      \"start\" : 30.150000,\\n      \"word\" : \"happens\"\\n    }, {\\n      \"conf\" : 1.000000,\\n      \"end\" : 30.750000,\\n      \"start\" : 30.510000,\\n      \"word\" : \"when\"\\n    }, {\\n      \"conf\" : 1.000000,\\n      \"end\" : 31.380000,\\n      \"start\" : 30.750000,\\n      \"word\" : \"something\"\\n    }, {\\n      \"conf\" : 0.747553,\\n      \"end\" : 33.210000,\\n      \"start\" : 32.850000,\\n      \"word\" : \"vastly\"\\n    }, {\\n      \"conf\" : 1.000000,\\n      \"end\" : 33.540000,\\n      \"start\" : 33.210000,\\n      \"word\" : \"smarter\"\\n    }, {\\n      \"conf\" : 1.000000,\\n      \"end\" : 33.750000,\\n      \"start\" : 33.540000,\\n      \"word\" : \"than\"\\n    }, {\\n      \"conf\" : 1.000000,\\n      \"end\" : 33.960000,\\n      \"start\" : 33.750000,\\n      \"word\" : \"the\"\\n    }, {\\n      \"conf\" : 1.000000,\\n      \"end\" : 34.410000,\\n      \"start\" : 33.990000,\\n      \"word\" : \"smartest\"\\n    }, {\\n      \"conf\" : 1.000000,\\n      \"end\" : 34.890000,\\n      \"start\" : 34.410000,\\n      \"word\" : \"person\"\\n    }, {\\n      \"conf\" : 0.799720,\\n      \"end\" : 35.670000,\\n      \"start\" : 35.460000,\\n      \"word\" : \"comes\"\\n    }, {\\n      \"conf\" : 0.799720,\\n      \"end\" : 35.880000,\\n      \"start\" : 35.670000,\\n      \"word\" : \"along\"\\n    }, {\\n      \"conf\" : 0.799720,\\n      \"end\" : 35.970000,\\n      \"start\" : 35.880000,\\n      \"word\" : \"and\"\\n    }, {\\n      \"conf\" : 0.422847,\\n      \"end\" : 36.270000,\\n      \"start\" : 35.970000,\\n      \"word\" : \"silicon\"\\n    }, {\\n      \"conf\" : 0.614555,\\n      \"end\" : 36.570000,\\n      \"start\" : 36.270000,\\n      \"word\" : \"form\"\\n    }, {\\n      \"conf\" : 1.000000,\\n      \"end\" : 37.680000,\\n      \"start\" : 37.530000,\\n      \"word\" : \"is\"\\n    }, {\\n      \"conf\" : 1.000000,\\n      \"end\" : 37.860000,\\n      \"start\" : 37.680000,\\n      \"word\" : \"very\"\\n    }, {\\n      \"conf\" : 1.000000,\\n      \"end\" : 38.100000,\\n      \"start\" : 37.860000,\\n      \"word\" : \"difficult\"\\n    }, {\\n      \"conf\" : 1.000000,\\n      \"end\" : 38.190000,\\n      \"start\" : 38.100000,\\n      \"word\" : \"to\"\\n    }, {\\n      \"conf\" : 1.000000,\\n      \"end\" : 38.460000,\\n      \"start\" : 38.190000,\\n      \"word\" : \"predict\"\\n    }, {\\n      \"conf\" : 1.000000,\\n      \"end\" : 38.580000,\\n      \"start\" : 38.460000,\\n      \"word\" : \"what\"\\n    }, {\\n      \"conf\" : 1.000000,\\n      \"end\" : 38.670000,\\n      \"start\" : 38.580000,\\n      \"word\" : \"will\"\\n    }, {\\n      \"conf\" : 1.000000,\\n      \"end\" : 39.060000,\\n      \"start\" : 38.670000,\\n      \"word\" : \"happen\"\\n    }, {\\n      \"conf\" : 1.000000,\\n      \"end\" : 39.270000,\\n      \"start\" : 39.120000,\\n      \"word\" : \"in\"\\n    }, {\\n      \"conf\" : 1.000000,\\n      \"end\" : 39.480000,\\n      \"start\" : 39.270000,\\n      \"word\" : \"that\"\\n    }, {\\n      \"conf\" : 1.000000,\\n      \"end\" : 40.080000,\\n      \"start\" : 39.480000,\\n      \"word\" : \"circumstance\"\\n    }, {\\n      \"conf\" : 1.000000,\\n      \"end\" : 40.590000,\\n      \"start\" : 40.440000,\\n      \"word\" : \"it\\'s\"\\n    }, {\\n      \"conf\" : 1.000000,\\n      \"end\" : 40.800000,\\n      \"start\" : 40.590000,\\n      \"word\" : \"called\"\\n    }, {\\n      \"conf\" : 1.000000,\\n      \"end\" : 40.860000,\\n      \"start\" : 40.800000,\\n      \"word\" : \"the\"\\n    }, {\\n      \"conf\" : 1.000000,\\n      \"end\" : 41.460000,\\n      \"start\" : 40.860000,\\n      \"word\" : \"singularity\"\\n    }, {\\n      \"conf\" : 0.917555,\\n      \"end\" : 41.760000,\\n      \"start\" : 41.460000,\\n      \"word\" : \"it\\'s\"\\n    }, {\\n      \"conf\" : 0.794200,\\n      \"end\" : 42.240000,\\n      \"start\" : 42.064973,\\n      \"word\" : \"it\"\\n    }, {\\n      \"conf\" : 1.000000,\\n      \"end\" : 42.510000,\\n      \"start\" : 42.240000,\\n      \"word\" : \"as\"\\n    }, {\\n      \"conf\" : 1.000000,\\n      \"end\" : 42.600000,\\n      \"start\" : 42.540000,\\n      \"word\" : \"a\"\\n    }, {\\n      \"conf\" : 1.000000,\\n      \"end\" : 43.110000,\\n      \"start\" : 42.600000,\\n      \"word\" : \"singularity\"\\n    }, {\\n      \"conf\" : 1.000000,\\n      \"end\" : 43.260000,\\n      \"start\" : 43.110000,\\n      \"word\" : \"like\"\\n    }, {\\n      \"conf\" : 1.000000,\\n      \"end\" : 43.320000,\\n      \"start\" : 43.260000,\\n      \"word\" : \"a\"\\n    }, {\\n      \"conf\" : 1.000000,\\n      \"end\" : 43.530000,\\n      \"start\" : 43.320000,\\n      \"word\" : \"black\"\\n    }, {\\n      \"conf\" : 1.000000,\\n      \"end\" : 43.890000,\\n      \"start\" : 43.530000,\\n      \"word\" : \"hole\"\\n    }, {\\n      \"conf\" : 0.356607,\\n      \"end\" : 44.490000,\\n      \"start\" : 44.430000,\\n      \"word\" : \"it\"\\n    }, {\\n      \"conf\" : 1.000000,\\n      \"end\" : 44.580000,\\n      \"start\" : 44.490000,\\n      \"word\" : \"you\"\\n    }, {\\n      \"conf\" : 1.000000,\\n      \"end\" : 44.790000,\\n      \"start\" : 44.580000,\\n      \"word\" : \"don\\'t\"\\n    }, {\\n      \"conf\" : 1.000000,\\n      \"end\" : 45.090000,\\n      \"start\" : 44.790000,\\n      \"word\" : \"know\"\\n    }, {\\n      \"conf\" : 1.000000,\\n      \"end\" : 45.750000,\\n      \"start\" : 45.510000,\\n      \"word\" : \"what\"\\n    }, {\\n      \"conf\" : 1.000000,\\n      \"end\" : 46.320000,\\n      \"start\" : 45.750000,\\n      \"word\" : \"happens\"\\n    }, {\\n      \"conf\" : 1.000000,\\n      \"end\" : 46.650000,\\n      \"start\" : 46.320000,\\n      \"word\" : \"after\"\\n    }, {\\n      \"conf\" : 1.000000,\\n      \"end\" : 46.956061,\\n      \"start\" : 46.650000,\\n      \"word\" : \"that\"\\n    }, {\\n      \"conf\" : 0.495009,\\n      \"end\" : 47.246371,\\n      \"start\" : 47.010000,\\n      \"word\" : \"taught\"\\n    }, {\\n      \"conf\" : 1.000000,\\n      \"end\" : 47.310000,\\n      \"start\" : 47.246371,\\n      \"word\" : \"to\"\\n    }, {\\n      \"conf\" : 1.000000,\\n      \"end\" : 47.520000,\\n      \"start\" : 47.310000,\\n      \"word\" : \"produce\"\\n    }],\\n  \"text\" : \"the about it aired for long time since as and cause really is one of the things that this or four five things either would really affect future a dramatically a it it is fundamentally profound in that the this the smartest creatures this was you know on this earth are humans is are defining characteristic yes we\\'re obviously are weaker than say chimpanzees and less agile but are smarter so now what happens when something vastly smarter than the smartest person comes along and silicon form is very difficult to predict what will happen in that circumstance it\\'s called the singularity it\\'s it as a singularity like a black hole it you don\\'t know what happens after that taught to produce\"\\n}'"
      ]
     },
     "execution_count": 15,
     "metadata": {},
     "output_type": "execute_result"
    }
   ],
   "source": [
    "result"
   ]
  },
  {
   "cell_type": "code",
   "execution_count": 12,
   "id": "6785e49f",
   "metadata": {},
   "outputs": [],
   "source": [
    "import json\n",
    "text = json.loads(result)[\"text\"]"
   ]
  },
  {
   "cell_type": "code",
   "execution_count": 13,
   "id": "6e405872",
   "metadata": {
    "scrolled": true
   },
   "outputs": [
    {
     "data": {
      "text/plain": [
       "\"the about it aired for long time since as and cause really is one of the things that this or four five things either would really affect future a dramatically a it it is fundamentally profound in that the this the smartest creatures this was you know on this earth are humans is are defining characteristic yes we're obviously are weaker than say chimpanzees and less agile but are smarter so now what happens when something vastly smarter than the smartest person comes along and silicon form is very difficult to predict what will happen in that circumstance it's called the singularity it's it as a singularity like a black hole it you don't know what happens after that taught to produce\""
      ]
     },
     "execution_count": 13,
     "metadata": {},
     "output_type": "execute_result"
    }
   ],
   "source": [
    "text"
   ]
  },
  {
   "cell_type": "markdown",
   "id": "f0b07d56",
   "metadata": {},
   "source": [
    "## Adding punctuation to the transcript with recasepunc"
   ]
  },
  {
   "cell_type": "code",
   "execution_count": 18,
   "id": "fbbedb7d",
   "metadata": {
    "scrolled": true
   },
   "outputs": [],
   "source": [
    "import subprocess\n",
    "\n",
    "cased = subprocess.check_output('python recasepunc/recasepunc.py predict recasepunc/checkpoint', shell=True, text=True, input=text)"
   ]
  },
  {
   "cell_type": "code",
   "execution_count": 19,
   "id": "3b1da1c8",
   "metadata": {},
   "outputs": [
    {
     "data": {
      "text/plain": [
       "\"The about it aired for long time since as and cause really is one of the things that this or four five things either would really affect future a dramatically a it It is fundamentally profound in that the. This the smartest creatures this was, you know on this earth are humans, is are defining characteristic. Yes, we ' re obviously are weaker than, say, chimpanzees and less agile, but are smarter. So now what happens when something vastly smarter than the smartest person comes along ? And silicon form is very difficult to predict what will happen in that circumstance ? It ' s called the singularity It ' s it as a singularity like a black hole. It you don ' t know what happens after that. Taught to produce.\\n\""
      ]
     },
     "execution_count": 19,
     "metadata": {},
     "output_type": "execute_result"
    }
   ],
   "source": [
    "cased"
   ]
  },
  {
   "cell_type": "code",
   "execution_count": 25,
   "id": "f49f28d2",
   "metadata": {},
   "outputs": [],
   "source": [
    "def voice_recognition(filename):\n",
    "    model = Model(model_name=\"vosk-model-en-us-0.22\")\n",
    "    rec = KaldiRecognizer(model, FRAME_RATE)\n",
    "    rec.SetWords(True)\n",
    "    \n",
    "    mp3 = AudioSegment.from_mp3(\"elonmusk.mp3\")\n",
    "    mp3 = mp3.set_channels(CHANNELS)\n",
    "    mp3 = mp3.set_frame_rate(FRAME_RATE)\n",
    "    \n",
    "    step = 45000\n",
    "    transcript = \"\"\n",
    "    for i in range(0, len(mp3), step):\n",
    "        print(f\"Progress: {i/len(mp3)}\")\n",
    "        segment = mp3[i:i+step]\n",
    "        rec.AcceptWaveform(segment.raw_data)\n",
    "        result = rec.Result()\n",
    "        text = json.loads(result)[\"text\"]\n",
    "        transcript += text\n",
    "    \n",
    "    cased = subprocess.check_output('python recasepunc/recasepunc.py predict recasepunc/checkpoint', shell=True, text=True, input=transcript)\n",
    "    return cased"
   ]
  },
  {
   "cell_type": "code",
   "execution_count": 26,
   "id": "23421544",
   "metadata": {
    "scrolled": true
   },
   "outputs": [
    {
     "name": "stdout",
     "output_type": "stream",
     "text": [
      "Progress: 0.0\n",
      "Progress: 0.9410682169894182\n"
     ]
    }
   ],
   "source": [
    "transcript = voice_recognition(\"elonmusk.mp3\")"
   ]
  },
  {
   "cell_type": "code",
   "execution_count": 27,
   "id": "79f930d3",
   "metadata": {},
   "outputs": [
    {
     "name": "stdout",
     "output_type": "stream",
     "text": [
      "I think about eight AI for a long time since I was in college. Really is one of the things that the sir. Four or five things I thought would really affect the future dramatically. It is fundamentally profound in that the. The the smartest creatures, as far as you know on this earth are humans is a defining characteristic. Yes, we obviously weaker than, say, chimpanzees and less agile, but real smarter. So now what happens when something vastly smarter than the smartest person comes along in Silicon Fall ? It ' s very difficult to predict what will happen in that circumstance. It ' s called the singularity It ' s a singularity like a black hole.You don ' t know what happens after that. It ' s hard.\n",
      "\n"
     ]
    }
   ],
   "source": [
    "print(transcript)"
   ]
  },
  {
   "cell_type": "markdown",
   "id": "a10cfe5e",
   "metadata": {},
   "source": [
    "## 2. Summarizing the transcript using HuggingFace transformers"
   ]
  },
  {
   "cell_type": "code",
   "execution_count": 28,
   "id": "64c4f539",
   "metadata": {},
   "outputs": [
    {
     "name": "stderr",
     "output_type": "stream",
     "text": [
      "No model was supplied, defaulted to sshleifer/distilbart-cnn-12-6 and revision a4f8f3e (https://huggingface.co/sshleifer/distilbart-cnn-12-6).\n",
      "Using a pipeline without specifying a model name and revision in production is not recommended.\n"
     ]
    },
    {
     "data": {
      "application/vnd.jupyter.widget-view+json": {
       "model_id": "2ed3f6aa5f2e4e7893330b6aeb21fe71",
       "version_major": 2,
       "version_minor": 0
      },
      "text/plain": [
       "Downloading (…)lve/main/config.json:   0%|          | 0.00/1.80k [00:00<?, ?B/s]"
      ]
     },
     "metadata": {},
     "output_type": "display_data"
    },
    {
     "name": "stderr",
     "output_type": "stream",
     "text": [
      "C:\\Users\\ayael\\anaconda3\\lib\\site-packages\\huggingface_hub\\file_download.py:133: UserWarning: `huggingface_hub` cache-system uses symlinks by default to efficiently store duplicated files but your machine does not support them in C:\\Users\\ayael\\.cache\\huggingface\\hub. Caching files will still work but in a degraded version that might require more space on your disk. This warning can be disabled by setting the `HF_HUB_DISABLE_SYMLINKS_WARNING` environment variable. For more details, see https://huggingface.co/docs/huggingface_hub/how-to-cache#limitations.\n",
      "To support symlinks on Windows, you either need to activate Developer Mode or to run Python as an administrator. In order to see activate developer mode, see this article: https://docs.microsoft.com/en-us/windows/apps/get-started/enable-your-device-for-development\n",
      "  warnings.warn(message)\n"
     ]
    },
    {
     "data": {
      "application/vnd.jupyter.widget-view+json": {
       "model_id": "2101f764c5f44dabba9563111b14c91b",
       "version_major": 2,
       "version_minor": 0
      },
      "text/plain": [
       "Downloading pytorch_model.bin:   0%|          | 0.00/1.22G [00:00<?, ?B/s]"
      ]
     },
     "metadata": {},
     "output_type": "display_data"
    },
    {
     "data": {
      "application/vnd.jupyter.widget-view+json": {
       "model_id": "91f4497ad1cf42bf94cb107b0f04c483",
       "version_major": 2,
       "version_minor": 0
      },
      "text/plain": [
       "Downloading (…)okenizer_config.json:   0%|          | 0.00/26.0 [00:00<?, ?B/s]"
      ]
     },
     "metadata": {},
     "output_type": "display_data"
    },
    {
     "data": {
      "application/vnd.jupyter.widget-view+json": {
       "model_id": "4c6a08ea62a1442ebe62ea84a13cf441",
       "version_major": 2,
       "version_minor": 0
      },
      "text/plain": [
       "Downloading (…)olve/main/vocab.json:   0%|          | 0.00/899k [00:00<?, ?B/s]"
      ]
     },
     "metadata": {},
     "output_type": "display_data"
    },
    {
     "data": {
      "application/vnd.jupyter.widget-view+json": {
       "model_id": "8b6f54a9eb44434ab14998f8e8c1cd8c",
       "version_major": 2,
       "version_minor": 0
      },
      "text/plain": [
       "Downloading (…)olve/main/merges.txt:   0%|          | 0.00/456k [00:00<?, ?B/s]"
      ]
     },
     "metadata": {},
     "output_type": "display_data"
    }
   ],
   "source": [
    "from transformers import pipeline\n",
    "summarizer = pipeline(\"summarization\")\n"
   ]
  },
  {
   "cell_type": "code",
   "execution_count": 29,
   "id": "479b4dd4",
   "metadata": {},
   "outputs": [],
   "source": [
    "split_tokens = transcript.split(\" \")\n",
    "docs = []\n",
    "for i in range(0, len(split_tokens), 850):\n",
    "    selection = \" \".join(split_tokens[i:(i+850)])\n",
    "    docs.append(selection)"
   ]
  },
  {
   "cell_type": "code",
   "execution_count": 30,
   "id": "30852cc4",
   "metadata": {},
   "outputs": [],
   "source": [
    "summaries = summarizer(docs)"
   ]
  },
  {
   "cell_type": "code",
   "execution_count": 31,
   "id": "82d91754",
   "metadata": {},
   "outputs": [],
   "source": [
    "summary = \"\\n\\n\".join([d[\"summary_text\"] for d in summaries])"
   ]
  },
  {
   "cell_type": "code",
   "execution_count": 32,
   "id": "fcd6f84b",
   "metadata": {},
   "outputs": [
    {
     "name": "stdout",
     "output_type": "stream",
     "text": [
      " The the smartest creatures, as far as you know on this earth are humans is a defining characteristic . So now what happens when something vastly smarter than the smartest person comes along in Silicon Fall ? It 's very difficult to predict what will happen in that circumstance. It ' s called the singularity like a black hole. You don't know what happens after that .\n"
     ]
    }
   ],
   "source": [
    "print(summary)"
   ]
  }
 ],
 "metadata": {
  "kernelspec": {
   "display_name": "Python 3",
   "language": "python",
   "name": "python3"
  },
  "language_info": {
   "codemirror_mode": {
    "name": "ipython",
    "version": 3
   },
   "file_extension": ".py",
   "mimetype": "text/x-python",
   "name": "python",
   "nbconvert_exporter": "python",
   "pygments_lexer": "ipython3",
   "version": "3.8.8"
  }
 },
 "nbformat": 4,
 "nbformat_minor": 5
}
